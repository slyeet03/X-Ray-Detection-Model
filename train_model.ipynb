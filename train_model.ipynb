{
 "cells": [
  {
   "cell_type": "markdown",
   "id": "377d99df",
   "metadata": {},
   "source": [
    "# Setup and load data"
   ]
  },
  {
   "cell_type": "markdown",
   "id": "a9032181",
   "metadata": {},
   "source": [
    "## Install dependencies and setup"
   ]
  },
  {
   "cell_type": "code",
   "execution_count": 1,
   "id": "4b84b5eb",
   "metadata": {},
   "outputs": [
    {
     "name": "stdout",
     "output_type": "stream",
     "text": [
      "Requirement already satisfied: tensorflow-macos in /Library/Frameworks/Python.framework/Versions/3.12/lib/python3.12/site-packages (2.16.2)\n",
      "Requirement already satisfied: tensorflow-metal in /Library/Frameworks/Python.framework/Versions/3.12/lib/python3.12/site-packages (1.2.0)\n",
      "Requirement already satisfied: opencv-python in /Library/Frameworks/Python.framework/Versions/3.12/lib/python3.12/site-packages (4.11.0.86)\n",
      "Requirement already satisfied: matplotlib in /Library/Frameworks/Python.framework/Versions/3.12/lib/python3.12/site-packages (3.10.6)\n",
      "Requirement already satisfied: pandas in /Library/Frameworks/Python.framework/Versions/3.12/lib/python3.12/site-packages (2.2.3)\n",
      "Requirement already satisfied: tensorflow==2.16.2 in /Library/Frameworks/Python.framework/Versions/3.12/lib/python3.12/site-packages (from tensorflow-macos) (2.16.2)\n",
      "Requirement already satisfied: absl-py>=1.0.0 in /Library/Frameworks/Python.framework/Versions/3.12/lib/python3.12/site-packages (from tensorflow==2.16.2->tensorflow-macos) (2.3.1)\n",
      "Requirement already satisfied: astunparse>=1.6.0 in /Library/Frameworks/Python.framework/Versions/3.12/lib/python3.12/site-packages (from tensorflow==2.16.2->tensorflow-macos) (1.6.3)\n",
      "Requirement already satisfied: flatbuffers>=23.5.26 in /Library/Frameworks/Python.framework/Versions/3.12/lib/python3.12/site-packages (from tensorflow==2.16.2->tensorflow-macos) (25.2.10)\n",
      "Requirement already satisfied: gast!=0.5.0,!=0.5.1,!=0.5.2,>=0.2.1 in /Library/Frameworks/Python.framework/Versions/3.12/lib/python3.12/site-packages (from tensorflow==2.16.2->tensorflow-macos) (0.6.0)\n",
      "Requirement already satisfied: google-pasta>=0.1.1 in /Library/Frameworks/Python.framework/Versions/3.12/lib/python3.12/site-packages (from tensorflow==2.16.2->tensorflow-macos) (0.2.0)\n",
      "Requirement already satisfied: h5py>=3.10.0 in /Library/Frameworks/Python.framework/Versions/3.12/lib/python3.12/site-packages (from tensorflow==2.16.2->tensorflow-macos) (3.14.0)\n",
      "Requirement already satisfied: libclang>=13.0.0 in /Library/Frameworks/Python.framework/Versions/3.12/lib/python3.12/site-packages (from tensorflow==2.16.2->tensorflow-macos) (18.1.1)\n",
      "Requirement already satisfied: ml-dtypes~=0.3.1 in /Library/Frameworks/Python.framework/Versions/3.12/lib/python3.12/site-packages (from tensorflow==2.16.2->tensorflow-macos) (0.3.2)\n",
      "Requirement already satisfied: opt-einsum>=2.3.2 in /Library/Frameworks/Python.framework/Versions/3.12/lib/python3.12/site-packages (from tensorflow==2.16.2->tensorflow-macos) (3.4.0)\n",
      "Requirement already satisfied: packaging in /Library/Frameworks/Python.framework/Versions/3.12/lib/python3.12/site-packages (from tensorflow==2.16.2->tensorflow-macos) (24.2)\n",
      "Requirement already satisfied: protobuf!=4.21.0,!=4.21.1,!=4.21.2,!=4.21.3,!=4.21.4,!=4.21.5,<5.0.0dev,>=3.20.3 in /Library/Frameworks/Python.framework/Versions/3.12/lib/python3.12/site-packages (from tensorflow==2.16.2->tensorflow-macos) (4.25.8)\n",
      "Requirement already satisfied: requests<3,>=2.21.0 in /Library/Frameworks/Python.framework/Versions/3.12/lib/python3.12/site-packages (from tensorflow==2.16.2->tensorflow-macos) (2.32.3)\n",
      "Requirement already satisfied: setuptools in /Library/Frameworks/Python.framework/Versions/3.12/lib/python3.12/site-packages (from tensorflow==2.16.2->tensorflow-macos) (75.8.0)\n",
      "Requirement already satisfied: six>=1.12.0 in /Library/Frameworks/Python.framework/Versions/3.12/lib/python3.12/site-packages (from tensorflow==2.16.2->tensorflow-macos) (1.16.0)\n",
      "Requirement already satisfied: termcolor>=1.1.0 in /Library/Frameworks/Python.framework/Versions/3.12/lib/python3.12/site-packages (from tensorflow==2.16.2->tensorflow-macos) (3.1.0)\n",
      "Requirement already satisfied: typing-extensions>=3.6.6 in /Library/Frameworks/Python.framework/Versions/3.12/lib/python3.12/site-packages (from tensorflow==2.16.2->tensorflow-macos) (4.12.2)\n",
      "Requirement already satisfied: wrapt>=1.11.0 in /Library/Frameworks/Python.framework/Versions/3.12/lib/python3.12/site-packages (from tensorflow==2.16.2->tensorflow-macos) (1.17.3)\n",
      "Requirement already satisfied: grpcio<2.0,>=1.24.3 in /Library/Frameworks/Python.framework/Versions/3.12/lib/python3.12/site-packages (from tensorflow==2.16.2->tensorflow-macos) (1.66.1)\n",
      "Requirement already satisfied: tensorboard<2.17,>=2.16 in /Library/Frameworks/Python.framework/Versions/3.12/lib/python3.12/site-packages (from tensorflow==2.16.2->tensorflow-macos) (2.16.2)\n",
      "Requirement already satisfied: keras>=3.0.0 in /Library/Frameworks/Python.framework/Versions/3.12/lib/python3.12/site-packages (from tensorflow==2.16.2->tensorflow-macos) (3.11.3)\n",
      "Requirement already satisfied: numpy<2.0.0,>=1.26.0 in /Library/Frameworks/Python.framework/Versions/3.12/lib/python3.12/site-packages (from tensorflow==2.16.2->tensorflow-macos) (1.26.4)\n",
      "Requirement already satisfied: charset-normalizer<4,>=2 in /Library/Frameworks/Python.framework/Versions/3.12/lib/python3.12/site-packages (from requests<3,>=2.21.0->tensorflow==2.16.2->tensorflow-macos) (3.3.2)\n",
      "Requirement already satisfied: idna<4,>=2.5 in /Library/Frameworks/Python.framework/Versions/3.12/lib/python3.12/site-packages (from requests<3,>=2.21.0->tensorflow==2.16.2->tensorflow-macos) (3.8)\n",
      "Requirement already satisfied: urllib3<3,>=1.21.1 in /Library/Frameworks/Python.framework/Versions/3.12/lib/python3.12/site-packages (from requests<3,>=2.21.0->tensorflow==2.16.2->tensorflow-macos) (2.2.2)\n",
      "Requirement already satisfied: certifi>=2017.4.17 in /Library/Frameworks/Python.framework/Versions/3.12/lib/python3.12/site-packages (from requests<3,>=2.21.0->tensorflow==2.16.2->tensorflow-macos) (2024.8.30)\n",
      "Requirement already satisfied: markdown>=2.6.8 in /Library/Frameworks/Python.framework/Versions/3.12/lib/python3.12/site-packages (from tensorboard<2.17,>=2.16->tensorflow==2.16.2->tensorflow-macos) (3.8.2)\n",
      "Requirement already satisfied: tensorboard-data-server<0.8.0,>=0.7.0 in /Library/Frameworks/Python.framework/Versions/3.12/lib/python3.12/site-packages (from tensorboard<2.17,>=2.16->tensorflow==2.16.2->tensorflow-macos) (0.7.2)\n",
      "Requirement already satisfied: werkzeug>=1.0.1 in /Library/Frameworks/Python.framework/Versions/3.12/lib/python3.12/site-packages (from tensorboard<2.17,>=2.16->tensorflow==2.16.2->tensorflow-macos) (3.0.4)\n",
      "Requirement already satisfied: wheel~=0.35 in /Library/Frameworks/Python.framework/Versions/3.12/lib/python3.12/site-packages (from tensorflow-metal) (0.45.1)\n",
      "Requirement already satisfied: contourpy>=1.0.1 in /Library/Frameworks/Python.framework/Versions/3.12/lib/python3.12/site-packages (from matplotlib) (1.3.3)\n",
      "Requirement already satisfied: cycler>=0.10 in /Library/Frameworks/Python.framework/Versions/3.12/lib/python3.12/site-packages (from matplotlib) (0.12.1)\n",
      "Requirement already satisfied: fonttools>=4.22.0 in /Library/Frameworks/Python.framework/Versions/3.12/lib/python3.12/site-packages (from matplotlib) (4.59.2)\n",
      "Requirement already satisfied: kiwisolver>=1.3.1 in /Library/Frameworks/Python.framework/Versions/3.12/lib/python3.12/site-packages (from matplotlib) (1.4.9)\n",
      "Requirement already satisfied: pillow>=8 in /Library/Frameworks/Python.framework/Versions/3.12/lib/python3.12/site-packages (from matplotlib) (10.4.0)\n",
      "Requirement already satisfied: pyparsing>=2.3.1 in /Library/Frameworks/Python.framework/Versions/3.12/lib/python3.12/site-packages (from matplotlib) (3.1.4)\n",
      "Requirement already satisfied: python-dateutil>=2.7 in /Library/Frameworks/Python.framework/Versions/3.12/lib/python3.12/site-packages (from matplotlib) (2.9.0.post0)\n",
      "Requirement already satisfied: pytz>=2020.1 in /Library/Frameworks/Python.framework/Versions/3.12/lib/python3.12/site-packages (from pandas) (2024.1)\n",
      "Requirement already satisfied: tzdata>=2022.7 in /Library/Frameworks/Python.framework/Versions/3.12/lib/python3.12/site-packages (from pandas) (2025.1)\n",
      "Requirement already satisfied: rich in /Library/Frameworks/Python.framework/Versions/3.12/lib/python3.12/site-packages (from keras>=3.0.0->tensorflow==2.16.2->tensorflow-macos) (13.9.4)\n",
      "Requirement already satisfied: namex in /Library/Frameworks/Python.framework/Versions/3.12/lib/python3.12/site-packages (from keras>=3.0.0->tensorflow==2.16.2->tensorflow-macos) (0.1.0)\n",
      "Requirement already satisfied: optree in /Library/Frameworks/Python.framework/Versions/3.12/lib/python3.12/site-packages (from keras>=3.0.0->tensorflow==2.16.2->tensorflow-macos) (0.17.0)\n",
      "Requirement already satisfied: MarkupSafe>=2.1.1 in /Library/Frameworks/Python.framework/Versions/3.12/lib/python3.12/site-packages (from werkzeug>=1.0.1->tensorboard<2.17,>=2.16->tensorflow==2.16.2->tensorflow-macos) (2.1.5)\n",
      "Requirement already satisfied: markdown-it-py>=2.2.0 in /Library/Frameworks/Python.framework/Versions/3.12/lib/python3.12/site-packages (from rich->keras>=3.0.0->tensorflow==2.16.2->tensorflow-macos) (3.0.0)\n",
      "Requirement already satisfied: pygments<3.0.0,>=2.13.0 in /Library/Frameworks/Python.framework/Versions/3.12/lib/python3.12/site-packages (from rich->keras>=3.0.0->tensorflow==2.16.2->tensorflow-macos) (2.19.1)\n",
      "Requirement already satisfied: mdurl~=0.1 in /Library/Frameworks/Python.framework/Versions/3.12/lib/python3.12/site-packages (from markdown-it-py>=2.2.0->rich->keras>=3.0.0->tensorflow==2.16.2->tensorflow-macos) (0.1.2)\n"
     ]
    }
   ],
   "source": [
    "!pip3 install tensorflow-macos tensorflow-metal opencv-python matplotlib pandas"
   ]
  },
  {
   "cell_type": "code",
   "execution_count": 2,
   "id": "29a47982",
   "metadata": {},
   "outputs": [],
   "source": [
    "import tensorflow as tf\n",
    "import os\n",
    "import pandas as pd\n",
    "from tensorflow.keras.applications import ResNet50\n",
    "from tensorflow.keras import layers, models\n",
    "from tensorflow.keras.callbacks import EarlyStopping, ModelCheckpoint\n",
    "import matplotlib.pyplot as plt\n",
    "from tensorflow.keras import optimizers\n",
    "from tensorflow.keras.metrics import AUC"
   ]
  },
  {
   "cell_type": "markdown",
   "id": "82553fcf",
   "metadata": {},
   "source": [
    "### Check whether gpu available or not"
   ]
  },
  {
   "cell_type": "code",
   "execution_count": 3,
   "id": "691f3ab0",
   "metadata": {},
   "outputs": [
    {
     "name": "stdout",
     "output_type": "stream",
     "text": [
      "✅ Using GPU: [PhysicalDevice(name='/physical_device:GPU:0', device_type='GPU')]\n"
     ]
    }
   ],
   "source": [
    "gpus = tf.config.list_physical_devices(\"GPU\")\n",
    "if gpus:\n",
    "    print(\"✅ Using GPU:\", gpus)\n",
    "else:\n",
    "    print(\"❌ No GPU found, using CPU\")"
   ]
  },
  {
   "cell_type": "markdown",
   "id": "49ffe5fe",
   "metadata": {},
   "source": [
    "## Load Labels"
   ]
  },
  {
   "cell_type": "code",
   "execution_count": 4,
   "id": "6cf1a26a",
   "metadata": {},
   "outputs": [],
   "source": [
    "# Load CSV\n",
    "train_df = pd.read_csv(\"CheXpert-v1.0-small/train.csv\")\n",
    "valid_df = pd.read_csv(\"CheXpert-v1.0-small/valid.csv\")\n",
    "\n",
    "LABELS = [\"Pneumothorax\", \"Pneumonia\", \"Edema\", \"Pleural Effusion\", \"Consolidation\", \"Cardiomegaly\", \"Atelectasis\"]\n",
    "\n",
    "# making dataset binary\n",
    "train_df[LABELS] = train_df[LABELS].fillna(0).replace(-1, 0)\n",
    "valid_df[LABELS] = valid_df[LABELS].fillna(0).replace(-1, 0)"
   ]
  },
  {
   "cell_type": "markdown",
   "id": "34c519ad",
   "metadata": {},
   "source": [
    "# Data Augmentation"
   ]
  },
  {
   "cell_type": "code",
   "execution_count": 5,
   "id": "a29463b5",
   "metadata": {},
   "outputs": [
    {
     "name": "stderr",
     "output_type": "stream",
     "text": [
      "2025-09-08 19:10:37.327996: I metal_plugin/src/device/metal_device.cc:1154] Metal device set to: Apple M3\n",
      "2025-09-08 19:10:37.328027: I metal_plugin/src/device/metal_device.cc:296] systemMemory: 16.00 GB\n",
      "2025-09-08 19:10:37.328031: I metal_plugin/src/device/metal_device.cc:313] maxCacheSize: 5.33 GB\n",
      "2025-09-08 19:10:37.328061: I tensorflow/core/common_runtime/pluggable_device/pluggable_device_factory.cc:305] Could not identify NUMA node of platform GPU ID 0, defaulting to 0. Your kernel may not have been built with NUMA support.\n",
      "2025-09-08 19:10:37.328070: I tensorflow/core/common_runtime/pluggable_device/pluggable_device_factory.cc:271] Created TensorFlow device (/job:localhost/replica:0/task:0/device:GPU:0 with 0 MB memory) -> physical PluggableDevice (device: 0, name: METAL, pci bus id: <undefined>)\n"
     ]
    }
   ],
   "source": [
    "rotation_layer = layers.RandomRotation(\n",
    "    factor=0.05,  # ~±5% of a full turn (~±18 degrees)\n",
    "    fill_mode=\"constant\"\n",
    ")\n",
    "\n",
    "def augment_image(image, label):\n",
    "    # Random brightness adjustment\n",
    "    image = tf.image.random_brightness(image, max_delta=0.1)\n",
    "\n",
    "    # Random contrast adjustment\n",
    "    image = tf.image.random_contrast(image, lower=0.9, upper=1.1)\n",
    "\n",
    "    # Random flip (horizontal only)\n",
    "    image = tf.image.random_flip_left_right(image)\n",
    "\n",
    "    # Rotation using keras layer (works on macOS)\n",
    "    image = rotation_layer(image, training=True)\n",
    "\n",
    "    # Ensure values stay in [0,1]\n",
    "    image = tf.clip_by_value(image, 0.0, 1.0)\n",
    "\n",
    "    return image, label"
   ]
  },
  {
   "cell_type": "markdown",
   "id": "625de41b",
   "metadata": {},
   "source": [
    "## Dataset for tensorflow"
   ]
  },
  {
   "cell_type": "code",
   "execution_count": 6,
   "id": "daf6864b",
   "metadata": {},
   "outputs": [],
   "source": [
    "IMG_SIZE = 224\n",
    "BATCH_SIZE = 32\n",
    "\n",
    "def parse_image(filename, label):\n",
    "    img=tf.io.read_file(filename)\n",
    "    # decoding jpg to tensor in 3 channels\n",
    "    img=tf.image.decode_jpeg(img,channels=3)\n",
    "    img=tf.image.resize(img, [IMG_SIZE, IMG_SIZE])\n",
    "    # normalizing [0,255] to [0,1]\n",
    "    img=tf.cast(img, tf.float32)/255.0\n",
    "    return img, label\n",
    "\n",
    "def df_to_dataset(df, base_dir=\"X-Ray-Detection-Model\", training=False):\n",
    "    filepaths = df[\"Path\"].values\n",
    "    # only takes images with the labels defined above\n",
    "    labels = df[LABELS].values.astype(\"float32\")\n",
    "    # makes a dataset that pairs each label with their image\n",
    "    ds=tf.data.Dataset.from_tensor_slices((filepaths, labels))\n",
    "    # apply parse image in parallel processing to make it faster\n",
    "    ds=ds.map(parse_image, num_parallel_calls=tf.data.AUTOTUNE)\n",
    "    if training:\n",
    "        ds = ds.map(augment_image, num_parallel_calls=tf.data.AUTOTUNE)\n",
    "    # shuffle the images and make it into batches\n",
    "    ds=ds.shuffle(1000).batch(BATCH_SIZE).prefetch(tf.data.AUTOTUNE)\n",
    "    return ds\n",
    "\n",
    "train_ds=df_to_dataset(train_df, training=True)\n",
    "valid_ds=df_to_dataset(valid_df, training=False)"
   ]
  },
  {
   "cell_type": "markdown",
   "id": "e0c15d55",
   "metadata": {},
   "source": [
    "# Building the model"
   ]
  },
  {
   "cell_type": "code",
   "execution_count": 7,
   "id": "0443e487",
   "metadata": {},
   "outputs": [],
   "source": [
    "# ready-made brain --> resnet50 already knows detection of edges and shapes and textures so we resue that knowledge with our dataset\n",
    "base_model = ResNet50(weights=\"imagenet\", include_top=False, input_shape=(IMG_SIZE, IMG_SIZE, 3))\n",
    "# freeze at start so it doesnt forget basic knowledsge\n",
    "base_model.trainable = False\n",
    "\n",
    "model = models.Sequential([\n",
    "    # squashing all the detected features into vectors\n",
    "    base_model, layers.GlobalAveragePooling2D(),\n",
    "    # every iteration it turns some neurons off so that every neuron learns instead of relying on sm neurons\n",
    "    layers.Dropout(0.5),\n",
    "    # for every disease giving 0 and 1\n",
    "    # using sigmoid instead of softmax for multilabeling\n",
    "    layers.Dense(len(LABELS), activation=\"sigmoid\")\n",
    "])\n",
    "\n",
    "# Calculate class weights\n",
    "# increases the cost of getting something wrong wrt how rare they are so the model doesnt get a easy way out\n",
    "class_totals = train_df[LABELS].sum().values\n",
    "total_samples = len(train_df)\n",
    "class_weights = total_samples / (len(LABELS) * class_totals)\n",
    "class_weight_dict = {i: class_weights[i] for i in range(len(LABELS))}\n",
    "\n",
    "\n",
    "# adam tell model how to update itself, loss --> tells the model how wrong it is, metrics --> keeps track of how well the model is doing\n",
    "model.compile(\n",
    "    optimizer=\"adam\",\n",
    "    loss=\"binary_crossentropy\", \n",
    "    metrics=[AUC(multi_label=True)]\n",
    "    )"
   ]
  },
  {
   "cell_type": "markdown",
   "id": "1d45af4b",
   "metadata": {},
   "source": [
    "# Adding callback"
   ]
  },
  {
   "cell_type": "code",
   "execution_count": 8,
   "id": "44ab873a",
   "metadata": {},
   "outputs": [],
   "source": [
    "early_stop = EarlyStopping(\n",
    "    monitor='val_loss',\n",
    "    patience=5,\n",
    "    restore_best_weights=True\n",
    ")\n",
    "checkpoint = ModelCheckpoint(\n",
    "    \"best_model.keras\",\n",
    "    monitor=\"val_loss\",\n",
    "    save_best_only=True\n",
    ")"
   ]
  },
  {
   "cell_type": "markdown",
   "id": "d50811a9",
   "metadata": {},
   "source": [
    "# Train"
   ]
  },
  {
   "cell_type": "code",
   "execution_count": 9,
   "id": "5a6292f2",
   "metadata": {},
   "outputs": [
    {
     "name": "stdout",
     "output_type": "stream",
     "text": [
      "Epoch 1/5\n"
     ]
    },
    {
     "name": "stderr",
     "output_type": "stream",
     "text": [
      "2025-09-08 19:10:39.311247: I tensorflow/core/grappler/optimizers/custom_graph_optimizer_registry.cc:117] Plugin optimizer for device_type GPU is enabled.\n"
     ]
    },
    {
     "name": "stdout",
     "output_type": "stream",
     "text": [
      "\u001b[1m6982/6982\u001b[0m \u001b[32m━━━━━━━━━━━━━━━━━━━━\u001b[0m\u001b[37m\u001b[0m \u001b[1m2292s\u001b[0m 328ms/step - auc: 0.5482 - loss: 0.4380 - val_auc: 0.6730 - val_loss: 0.4969\n",
      "Epoch 2/5\n",
      "\u001b[1m6982/6982\u001b[0m \u001b[32m━━━━━━━━━━━━━━━━━━━━\u001b[0m\u001b[37m\u001b[0m \u001b[1m2225s\u001b[0m 319ms/step - auc: 0.5642 - loss: 0.4339 - val_auc: 0.6801 - val_loss: 0.4947\n",
      "Epoch 3/5\n",
      "\u001b[1m6982/6982\u001b[0m \u001b[32m━━━━━━━━━━━━━━━━━━━━\u001b[0m\u001b[37m\u001b[0m \u001b[1m2209s\u001b[0m 316ms/step - auc: 0.5689 - loss: 0.4327 - val_auc: 0.6737 - val_loss: 0.4959\n",
      "Epoch 4/5\n",
      "\u001b[1m6982/6982\u001b[0m \u001b[32m━━━━━━━━━━━━━━━━━━━━\u001b[0m\u001b[37m\u001b[0m \u001b[1m2262s\u001b[0m 324ms/step - auc: 0.5714 - loss: 0.4319 - val_auc: 0.6854 - val_loss: 0.5180\n",
      "Epoch 5/5\n",
      "\u001b[1m6982/6982\u001b[0m \u001b[32m━━━━━━━━━━━━━━━━━━━━\u001b[0m\u001b[37m\u001b[0m \u001b[1m2130s\u001b[0m 305ms/step - auc: 0.5747 - loss: 0.4315 - val_auc: 0.6996 - val_loss: 0.4876\n"
     ]
    }
   ],
   "source": [
    "# model.fit --> training begins\n",
    "history = model.fit(\n",
    "    train_ds,\n",
    "    validation_data=valid_ds,\n",
    "    epochs=5,\n",
    "    callbacks=[early_stop, checkpoint],\n",
    "    class_weight=class_weight_dict)"
   ]
  },
  {
   "cell_type": "markdown",
   "id": "2c64ff6f",
   "metadata": {},
   "source": [
    "## Unfreeze some layers"
   ]
  },
  {
   "cell_type": "code",
   "execution_count": 10,
   "id": "9151b63c",
   "metadata": {},
   "outputs": [],
   "source": [
    "base_model.trainable=True\n",
    "\n",
    "# finetuning\n",
    "for layer in base_model.layers[:-50]:\n",
    "    layer.trainable = False"
   ]
  },
  {
   "cell_type": "markdown",
   "id": "4506caa8",
   "metadata": {},
   "source": [
    "## Recompiling with smaller learning rate"
   ]
  },
  {
   "cell_type": "code",
   "execution_count": 11,
   "id": "bf352be2",
   "metadata": {},
   "outputs": [],
   "source": [
    "model.compile(\n",
    "    optimizer=optimizers.Adam(learning_rate=1e-5),\n",
    "    loss=\"binary_crossentropy\",\n",
    "    metrics=[AUC(multi_label=True)]\n",
    ")"
   ]
  },
  {
   "cell_type": "markdown",
   "id": "0c29ab3f",
   "metadata": {},
   "source": [
    "## Train"
   ]
  },
  {
   "cell_type": "code",
   "execution_count": 12,
   "id": "cd94d717",
   "metadata": {},
   "outputs": [
    {
     "name": "stdout",
     "output_type": "stream",
     "text": [
      "Epoch 5/50\n",
      "\u001b[1m6982/6982\u001b[0m \u001b[32m━━━━━━━━━━━━━━━━━━━━\u001b[0m\u001b[37m\u001b[0m \u001b[1m3573s\u001b[0m 510ms/step - auc_1: 0.6007 - loss: 0.4565 - val_auc_1: 0.7476 - val_loss: 0.5493\n",
      "Epoch 6/50\n",
      "\u001b[1m6982/6982\u001b[0m \u001b[32m━━━━━━━━━━━━━━━━━━━━\u001b[0m\u001b[37m\u001b[0m \u001b[1m3494s\u001b[0m 500ms/step - auc_1: 0.6383 - loss: 0.4113 - val_auc_1: 0.7612 - val_loss: 0.5438\n",
      "Epoch 7/50\n",
      "\u001b[1m6982/6982\u001b[0m \u001b[32m━━━━━━━━━━━━━━━━━━━━\u001b[0m\u001b[37m\u001b[0m \u001b[1m3607s\u001b[0m 516ms/step - auc_1: 0.6521 - loss: 0.4070 - val_auc_1: 0.7634 - val_loss: 0.4968\n",
      "Epoch 8/50\n",
      "\u001b[1m6982/6982\u001b[0m \u001b[32m━━━━━━━━━━━━━━━━━━━━\u001b[0m\u001b[37m\u001b[0m \u001b[1m3538s\u001b[0m 507ms/step - auc_1: 0.6588 - loss: 0.4047 - val_auc_1: 0.7865 - val_loss: 0.5057\n",
      "Epoch 9/50\n",
      "\u001b[1m6982/6982\u001b[0m \u001b[32m━━━━━━━━━━━━━━━━━━━━\u001b[0m\u001b[37m\u001b[0m \u001b[1m3567s\u001b[0m 511ms/step - auc_1: 0.6660 - loss: 0.4024 - val_auc_1: 0.7224 - val_loss: 0.4393\n",
      "Epoch 10/50\n",
      "\u001b[1m6982/6982\u001b[0m \u001b[32m━━━━━━━━━━━━━━━━━━━━\u001b[0m\u001b[37m\u001b[0m \u001b[1m3540s\u001b[0m 507ms/step - auc_1: 0.6703 - loss: 0.4010 - val_auc_1: 0.7678 - val_loss: 0.4714\n",
      "Epoch 11/50\n",
      "\u001b[1m6982/6982\u001b[0m \u001b[32m━━━━━━━━━━━━━━━━━━━━\u001b[0m\u001b[37m\u001b[0m \u001b[1m3456s\u001b[0m 495ms/step - auc_1: 0.6749 - loss: 0.3990 - val_auc_1: 0.7727 - val_loss: 0.4478\n",
      "Epoch 12/50\n",
      "\u001b[1m6982/6982\u001b[0m \u001b[32m━━━━━━━━━━━━━━━━━━━━\u001b[0m\u001b[37m\u001b[0m \u001b[1m3460s\u001b[0m 495ms/step - auc_1: 0.6800 - loss: 0.3975 - val_auc_1: 0.7999 - val_loss: 0.4803\n",
      "Epoch 13/50\n",
      "\u001b[1m6982/6982\u001b[0m \u001b[32m━━━━━━━━━━━━━━━━━━━━\u001b[0m\u001b[37m\u001b[0m \u001b[1m3593s\u001b[0m 514ms/step - auc_1: 0.6832 - loss: 0.3961 - val_auc_1: 0.7669 - val_loss: 0.4606\n",
      "Epoch 14/50\n",
      "\u001b[1m6982/6982\u001b[0m \u001b[32m━━━━━━━━━━━━━━━━━━━━\u001b[0m\u001b[37m\u001b[0m \u001b[1m3776s\u001b[0m 541ms/step - auc_1: 0.6865 - loss: 0.3949 - val_auc_1: 0.7867 - val_loss: 0.4741\n"
     ]
    }
   ],
   "source": [
    "history_fine = model.fit(\n",
    "    train_ds,\n",
    "    validation_data=valid_ds,\n",
    "    epochs=50,\n",
    "    initial_epoch=history.epoch[-1],\n",
    "    callbacks=[early_stop, checkpoint],\n",
    "    class_weight=class_weight_dict\n",
    ")"
   ]
  },
  {
   "cell_type": "markdown",
   "id": "599adaad",
   "metadata": {},
   "source": [
    "# Save the model"
   ]
  },
  {
   "cell_type": "code",
   "execution_count": 13,
   "id": "a14f41f1",
   "metadata": {},
   "outputs": [],
   "source": [
    "model.save(\"best_model.keras\")"
   ]
  },
  {
   "cell_type": "markdown",
   "id": "2ec7a5aa",
   "metadata": {},
   "source": [
    "# Plotting the model stats"
   ]
  },
  {
   "cell_type": "code",
   "execution_count": 16,
   "id": "c78c2437",
   "metadata": {},
   "outputs": [
    {
     "ename": "KeyError",
     "evalue": "'AUC'",
     "output_type": "error",
     "traceback": [
      "\u001b[0;31m---------------------------------------------------------------------------\u001b[0m",
      "\u001b[0;31mKeyError\u001b[0m                                  Traceback (most recent call last)",
      "Cell \u001b[0;32mIn[16], line 27\u001b[0m\n\u001b[1;32m     24\u001b[0m     plt\u001b[38;5;241m.\u001b[39mshow()\n\u001b[1;32m     26\u001b[0m \u001b[38;5;66;03m# Call the function to plot\u001b[39;00m\n\u001b[0;32m---> 27\u001b[0m \u001b[43mplot_history\u001b[49m\u001b[43m(\u001b[49m\u001b[43m[\u001b[49m\u001b[43mhistory\u001b[49m\u001b[43m,\u001b[49m\u001b[43m \u001b[49m\u001b[43mhistory_fine\u001b[49m\u001b[43m]\u001b[49m\u001b[43m,\u001b[49m\u001b[43m \u001b[49m\u001b[43m[\u001b[49m\u001b[38;5;124;43m'\u001b[39;49m\u001b[38;5;124;43mInitial\u001b[39;49m\u001b[38;5;124;43m'\u001b[39;49m\u001b[43m,\u001b[49m\u001b[43m \u001b[49m\u001b[38;5;124;43m'\u001b[39;49m\u001b[38;5;124;43mFine-tuning\u001b[39;49m\u001b[38;5;124;43m'\u001b[39;49m\u001b[43m]\u001b[49m\u001b[43m)\u001b[49m\n",
      "Cell \u001b[0;32mIn[16], line 17\u001b[0m, in \u001b[0;36mplot_history\u001b[0;34m(histories, titles)\u001b[0m\n\u001b[1;32m     15\u001b[0m plt\u001b[38;5;241m.\u001b[39msubplot(\u001b[38;5;241m1\u001b[39m,\u001b[38;5;241m2\u001b[39m,\u001b[38;5;241m2\u001b[39m)\n\u001b[1;32m     16\u001b[0m \u001b[38;5;28;01mfor\u001b[39;00m h, t \u001b[38;5;129;01min\u001b[39;00m \u001b[38;5;28mzip\u001b[39m(histories, titles):\n\u001b[0;32m---> 17\u001b[0m     plt\u001b[38;5;241m.\u001b[39mplot(\u001b[43mh\u001b[49m\u001b[38;5;241;43m.\u001b[39;49m\u001b[43mhistory\u001b[49m\u001b[43m[\u001b[49m\u001b[38;5;124;43m'\u001b[39;49m\u001b[38;5;124;43mAUC\u001b[39;49m\u001b[38;5;124;43m'\u001b[39;49m\u001b[43m]\u001b[49m, label\u001b[38;5;241m=\u001b[39m\u001b[38;5;124mf\u001b[39m\u001b[38;5;124m'\u001b[39m\u001b[38;5;132;01m{\u001b[39;00mt\u001b[38;5;132;01m}\u001b[39;00m\u001b[38;5;124m train AUC\u001b[39m\u001b[38;5;124m'\u001b[39m)\n\u001b[1;32m     18\u001b[0m     plt\u001b[38;5;241m.\u001b[39mplot(h\u001b[38;5;241m.\u001b[39mhistory[\u001b[38;5;124m'\u001b[39m\u001b[38;5;124mval_auc\u001b[39m\u001b[38;5;124m'\u001b[39m], label\u001b[38;5;241m=\u001b[39m\u001b[38;5;124mf\u001b[39m\u001b[38;5;124m'\u001b[39m\u001b[38;5;132;01m{\u001b[39;00mt\u001b[38;5;132;01m}\u001b[39;00m\u001b[38;5;124m val auc\u001b[39m\u001b[38;5;124m'\u001b[39m)\n\u001b[1;32m     19\u001b[0m plt\u001b[38;5;241m.\u001b[39mtitle(\u001b[38;5;124m'\u001b[39m\u001b[38;5;124mAUC\u001b[39m\u001b[38;5;124m'\u001b[39m)\n",
      "\u001b[0;31mKeyError\u001b[0m: 'AUC'"
     ]
    },
    {
     "data": {
      "image/png": "[encoded data removed]",
      "text/plain": [
       "<Figure size 1400x500 with 2 Axes>"
      ]
     },
     "metadata": {},
     "output_type": "display_data"
    }
   ],
   "source": [
    "def plot_history(histories, titles):\n",
    "    plt.figure(figsize=(14,5))\n",
    "    \n",
    "    # Plot Loss\n",
    "    plt.subplot(1,2,1)\n",
    "    for h, t in zip(histories, titles):\n",
    "        plt.plot(h.history['loss'], label=f'{t} train loss')\n",
    "        plt.plot(h.history['val_loss'], label=f'{t} val loss')\n",
    "    plt.title('Loss')\n",
    "    plt.xlabel('Epochs')\n",
    "    plt.ylabel('Loss')\n",
    "    plt.legend()\n",
    "    \n",
    "    # Plot Accuracy\n",
    "    plt.subplot(1,2,2)\n",
    "    for h, t in zip(histories, titles):\n",
    "        plt.plot(h.history['AUC'], label=f'{t} train AUC')\n",
    "        plt.plot(h.history['val_auc'], label=f'{t} val auc')\n",
    "    plt.title('AUC')\n",
    "    plt.xlabel('Epochs')\n",
    "    plt.ylabel('Accuracy')\n",
    "    plt.legend()\n",
    "    \n",
    "    plt.show()\n",
    "\n",
    "# Call the function to plot\n",
    "plot_history([history, history_fine], ['Initial', 'Fine-tuning'])"
   ]
  }
 ],
 "metadata": {
  "kernelspec": {
   "display_name": "Python 3",
   "language": "python",
   "name": "python3"
  },
  "language_info": {
   "codemirror_mode": {
    "name": "ipython",
    "version": 3
   },
   "file_extension": ".py",
   "mimetype": "text/x-python",
   "name": "python",
   "nbconvert_exporter": "python",
   "pygments_lexer": "ipython3",
   "version": "3.12.7"
  }
 },
 "nbformat": 4,
 "nbformat_minor": 5
}
